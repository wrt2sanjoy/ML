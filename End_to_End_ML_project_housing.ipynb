{
  "nbformat": 4,
  "nbformat_minor": 0,
  "metadata": {
    "colab": {
      "name": "End to End ML project-housing.ipynb",
      "provenance": [],
      "authorship_tag": "ABX9TyPXSD+O7sd60M0vWJEFSbm2",
      "include_colab_link": true
    },
    "kernelspec": {
      "name": "python3",
      "display_name": "Python 3"
    },
    "language_info": {
      "name": "python"
    }
  },
  "cells": [
    {
      "cell_type": "markdown",
      "metadata": {
        "id": "view-in-github",
        "colab_type": "text"
      },
      "source": [
        "<a href=\"https://colab.research.google.com/github/wrt2sanjoy/ML/blob/main/End_to_End_ML_project_housing.ipynb\" target=\"_parent\"><img src=\"https://colab.research.google.com/assets/colab-badge.svg\" alt=\"Open In Colab\"/></a>"
      ]
    },
    {
      "cell_type": "code",
      "execution_count": null,
      "metadata": {
        "id": "uParv1bzDwWR"
      },
      "outputs": [],
      "source": [
        ""
      ]
    }
  ]
}